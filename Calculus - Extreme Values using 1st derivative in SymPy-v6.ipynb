{
 "cells": [
  {
   "cell_type": "markdown",
   "metadata": {},
   "source": [
    "## <font color=blue> Calculus Extreme Values using Python and SymPy\n",
    "\n",
    "This is part of the series of math algorithms to define 3D shapes as math objects."
   ]
  },
  {
   "cell_type": "markdown",
   "metadata": {},
   "source": [
    "### <font color=blue> Problem: \n",
    "Find the absolute extrema for the specified function (expression) over a given the interval. For example:\n",
    "* If expression is y = $x^3$ -12x +4 &nbsp;.... and limits of x are -3 to +5\n",
    "    * The min will occur at: x = 2.0 at which y = -12.0 \n",
    "    * The max will occur at: x = 5.0 at which y = 69.0"
   ]
  },
  {
   "cell_type": "markdown",
   "metadata": {},
   "source": [
    "### <font color=blue> Processs:  </font>\n",
    "- Plot data (optional, to provide visual of data). Generate samples values of x in the interval and calculate corresponding values for y.\n",
    "- Calculate the 1st derivative.  This is the slope.  Helpful to plot as well.\n",
    "- Find critical values (where 1st derivative, the slope,  = 0 ); slope will be zero at the min and max. Note that there could be multiple points on x where y is a min or max (e.g. sine curve).\n",
    "- Find values at the endpoints of the interval (as these could be min or max values but won't have a slope).\n",
    "- Of the values generated above, sort the list to find the min and max values (x, y).\n",
    "- Plot values to visually validate.\n",
    "\n",
    "### <font color=blue> Use of the 1st Derivative: </font>\n",
    "\n",
    "* This solution uses the 1st derivative of the function. Normally, we think of the 1st derivative as the rate of change; e.g. change of distance over the change of time (velocity, acceleration) or flow (gallons per seconds). The 1st derivative measures the change in 'y' (dependent variable) versus the change in 'x' (the independent variable); hence, the 1st derivative is the slope of the line along the curvature of the line. When the slope is zero, the curvature is flat which it will be the max and min (and perhaps, in other places as well).\n",
    "\n",
    "### <font color=blue> Notes: </font>\n",
    "\n",
    "* Section 1 provides the step-by-step algorithm with plots and interim results.  \n",
    "* Section 2 presents the algorithm in more concise fashion that can be easily copied and used. \n",
    "* Section 3 provides provides additional expression that can be plugged into Section 1 and 2 for additional examples. \n"
   ]
  },
  {
   "cell_type": "markdown",
   "metadata": {},
   "source": [
    "## <font color=purple> SECTION 1: Algorithm with execution details (plots of data, interim calculations, etc)"
   ]
  },
  {
   "cell_type": "code",
   "execution_count": 1,
   "metadata": {},
   "outputs": [],
   "source": [
    "import numpy as np\n",
    "import matplotlib.pyplot as plt\n",
    "%matplotlib inline"
   ]
  },
  {
   "cell_type": "markdown",
   "metadata": {},
   "source": [
    "### <font color=blue> Key Inputs: expression and interval for evaluation</font>"
   ]
  },
  {
   "cell_type": "code",
   "execution_count": 2,
   "metadata": {},
   "outputs": [],
   "source": [
    "from sympy import pprint, init_printing\n",
    "from sympy import *\n",
    "init_printing(use_unicode=True)\n",
    "from sympy import Symbol, Eq,  solveset, S\n",
    "import math\n",
    "\n",
    "x= Symbol('x', real=True)                                # define x as a symbol"
   ]
  },
  {
   "cell_type": "code",
   "execution_count": 3,
   "metadata": {},
   "outputs": [
    {
     "name": "stdout",
     "output_type": "stream",
     "text": [
      "Expression:\n"
     ]
    },
    {
     "data": {
      "image/png": "[encoded data removed]",
      "text/latex": [
       "$$\\sin{\\left (x \\right )} + 40$$"
      ],
      "text/plain": [
       "sin(x) + 40"
      ]
     },
     "metadata": {},
     "output_type": "display_data"
    },
    {
     "name": "stdout",
     "output_type": "stream",
     "text": [
      "Interval:  -3 , 5\n"
     ]
    }
   ],
   "source": [
    "expr = sin(x) +40                    # test case exression; x_min = -3  x_max = 5\n",
    "x_min = -3                                  # specify interval (min)\n",
    "x_max = 5                                  # specify interval (max)\n",
    "print(\"Expression:\")\n",
    "display(expr)\n",
    "print( \"Interval: \", x_min,',', x_max)"
   ]
  },
  {
   "cell_type": "markdown",
   "metadata": {},
   "source": [
    "### <font color=blue> Plot the expression for visualization </font>"
   ]
  },
  {
   "cell_type": "code",
   "execution_count": 4,
   "metadata": {},
   "outputs": [
    {
     "name": "stdout",
     "output_type": "stream",
     "text": [
      "Expression:\n"
     ]
    },
    {
     "data": {
      "image/png": "[encoded data removed]",
      "text/latex": [
       "$$\\sin{\\left (x \\right )} + 40$$"
      ],
      "text/plain": [
       "sin(x) + 40"
      ]
     },
     "metadata": {},
     "output_type": "display_data"
    },
    {
     "name": "stdout",
     "output_type": "stream",
     "text": [
      "Interval:  -3 , 5\n"
     ]
    },
    {
     "data": {
      "text/plain": [
       "<function matplotlib.pyplot.show(*args, **kw)>"
      ]
     },
     "execution_count": 4,
     "metadata": {},
     "output_type": "execute_result"
    },
    {
     "data": {
      "image/png": "[encoded data removed]",
      "text/plain": [
       "<Figure size 288x144 with 1 Axes>"
      ]
     },
     "metadata": {
      "needs_background": "light"
     },
     "output_type": "display_data"
    }
   ],
   "source": [
    "# Plot the function to understand the function and data\n",
    "print(\"Expression:\")\n",
    "display(expr)\n",
    "print( \"Interval: \", x_min,',', x_max)\n",
    "\n",
    "# Create data for plot of function\n",
    "x_expr = [x for x in np.linspace(start = x_min -.3*abs(x_min), stop = (x_max+.3*abs(x_max)), num = 60)]\n",
    "\n",
    "y_expr = []\n",
    "for x_data in x_expr:\n",
    "    y = expr.subs([(x, x_data)])            # Substitution, uses value of x_data for x in expression\n",
    "    y_expr.append(y)\n",
    "x_min_line = [x_min, x_min]\n",
    "x_max_line = [x_max,x_max]\n",
    "y_limit_line = [min(y_expr),max(y_expr)]\n",
    "\n",
    "# Plot data    \n",
    "plt.figure(figsize=(4,2))                       # resets to new figure   \n",
    "plt.style.use('ggplot')\n",
    "plt.xlabel('x', fontsize = 14, color='black')\n",
    "plt.ylabel('y', fontsize = 14, color='black')\n",
    "plt.title(\"Expression Plot\", loc='center', fontsize=18, color='b')\n",
    "plt.plot(x_expr,y_expr, color='b')\n",
    "plt.plot([x_min,x_min],[min(y_expr),max(y_expr)], color='r')   # limit line at min\n",
    "plt.plot([x_max,x_max],[min(y_expr),max(y_expr)], color='r')   # limit line at max\n",
    "#plt.annotate(\"Interval between Red lines\", eval_list[0],textcoords=\"offset points\",xytext=(100,0),color='r')\n",
    "plt.annotate(\"Interval is between Red lines\", [x_max,max(y_expr)],textcoords=\"offset points\",xytext=(70,-20),color='r')\n",
    "plt.show"
   ]
  },
  {
   "cell_type": "markdown",
   "metadata": {},
   "source": [
    "###  <font color=blue> Take a derivative of f(x), the 1st derivative (slope), with respect to x and plot derivative:"
   ]
  },
  {
   "cell_type": "code",
   "execution_count": 5,
   "metadata": {},
   "outputs": [
    {
     "name": "stdout",
     "output_type": "stream",
     "text": [
      "Expression:\n"
     ]
    },
    {
     "data": {
      "image/png": "[encoded data removed]",
      "text/latex": [
       "$$\\sin{\\left (x \\right )} + 40$$"
      ],
      "text/plain": [
       "sin(x) + 40"
      ]
     },
     "metadata": {},
     "output_type": "display_data"
    },
    {
     "name": "stdout",
     "output_type": "stream",
     "text": [
      "Derivative:\n"
     ]
    },
    {
     "data": {
      "image/png": "[encoded data removed]",
      "text/latex": [
       "$$\\cos{\\left (x \\right )}$$"
      ],
      "text/plain": [
       "cos(x)"
      ]
     },
     "metadata": {},
     "output_type": "display_data"
    },
    {
     "name": "stdout",
     "output_type": "stream",
     "text": [
      "At x = 4, the Value of function is sin(4) + 40 and Value of deriviative is cos(4) \n",
      "At x = 0, the Value of function is 40 and Value of deriviative is 1 \n"
     ]
    }
   ],
   "source": [
    "from sympy import Derivative\n",
    "print(\"Expression:\")\n",
    "display(expr)\n",
    "\n",
    "deriv1= Derivative(expr, x)                   # take derivative\n",
    "print('Derivative:' )\n",
    "display(deriv1.doit())\n",
    "\n",
    "value_der = deriv1.doit().subs({x:4})             # derivative at x = 4\n",
    "value_expr = expr.subs([(x, 4)])              # function at x = 4\n",
    "print('At x = 4, the Value of function is {} and Value of deriviative is {} '.format(value_expr,value_der))\n",
    "value_der = deriv1.doit().subs({x:0})             # derivative at x = 4\n",
    "value_expr = expr.subs([(x, 0)])              # function at x = 4\n",
    "print('At x = 0, the Value of function is {} and Value of deriviative is {} '.format(value_expr,value_der))"
   ]
  },
  {
   "cell_type": "markdown",
   "metadata": {},
   "source": [
    "###  <font color=blue> Plot 1st derivative on same chart as expression for visulization"
   ]
  },
  {
   "cell_type": "code",
   "execution_count": 6,
   "metadata": {},
   "outputs": [],
   "source": [
    "# Create the derivative plot data (function data already done)\n",
    "x_der = [x for x in np.linspace(start = x_min, stop = x_max, num = 60)]\n",
    "y_der = []\n",
    "for x_data in x_der:\n",
    "    y = deriv1.doit().subs({x:x_data})             # derivative at x = ....\n",
    "    y_der.append(y)"
   ]
  },
  {
   "cell_type": "code",
   "execution_count": 7,
   "metadata": {},
   "outputs": [
    {
     "data": {
      "image/png": "[encoded data removed]",
      "text/plain": [
       "<Figure size 288x144 with 1 Axes>"
      ]
     },
     "metadata": {},
     "output_type": "display_data"
    }
   ],
   "source": [
    "plt.figure(figsize=(4,2))                       # resets to new figure\n",
    "plt.title('Expression and its 1st Derivative', loc='center', fontsize=18, color='b')\n",
    "line_chart1 = plt.plot(x_expr, y_expr, color = 'blue')\n",
    "line_chart2 = plt.plot(x_der, y_der, color = 'orange')\n",
    "plt.xlabel('x', fontsize = 14, color='black')\n",
    "plt.ylabel('y', fontsize = 14, color='black')\n",
    "plt.legend(['Expression', 'Derivative'], loc='center left', bbox_to_anchor=(1.0, 0.5), title='Legend')\n",
    "plt.plot([x_min,x_min],[min(y_expr),max(y_expr)], color='r')   # limit line at min\n",
    "plt.plot([x_max,x_max],[min(y_expr),max(y_expr)], color='r')   # limit line at max\n",
    "plt.annotate(\"Interval is between Red lines\", [x_max,max(y_expr)],textcoords=\"offset points\",xytext=(50,-20),color='r')\n",
    "plt.show()"
   ]
  },
  {
   "cell_type": "markdown",
   "metadata": {},
   "source": [
    "### <font color=blue> Find Critical Values; where 1st derivative (slope) = 0"
   ]
  },
  {
   "cell_type": "code",
   "execution_count": 8,
   "metadata": {},
   "outputs": [
    {
     "name": "stdout",
     "output_type": "stream",
     "text": [
      "Eq(cos(x), 0)\n",
      "Results of solve: [pi/2, 3*pi/2]\n",
      "2 Critcal Values: [pi/2, 3*pi/2] \n"
     ]
    }
   ],
   "source": [
    "# Set the (first) derivative equal to zero. Solve for x. Call these values x_cv.\n",
    "eq1 = Eq(deriv1.doit()) \n",
    "print(eq1)\n",
    "x_cv_temp = solve(eq1,x)               # solve for critical values (get values of x when y = 0)\n",
    "\n",
    "print('Results of solve:', x_cv_temp)\n",
    "x_cv = []\n",
    "for item in x_cv_temp:            # only include those within the interval\n",
    "    if   x_min <= item <= x_max:\n",
    "        x_cv.append(item)\n",
    "print('{} Critcal Values: {} '.format(len(x_cv),x_cv))\n",
    "\n",
    "# determine if there are > 2 values (--> multiple min or max)\n",
    "note = ''\n",
    "if type(solveset(eq1,x)) == Union: note = 'Note: Solution contains multiple min or max values. '"
   ]
  },
  {
   "cell_type": "markdown",
   "metadata": {},
   "source": [
    "### <font color=blue> Evaluate Expression at the Critical Values (slope = 0) and at Endpoints (interval endpoints that don't have a slope). \n",
    "    From this, determine max and min values of 'y' where slope (at x = _) is zero or endpoint.  Note that could be multiple points where max and min occurs (e.g. sine curve). "
   ]
  },
  {
   "cell_type": "code",
   "execution_count": 9,
   "metadata": {},
   "outputs": [
    {
     "name": "stdout",
     "output_type": "stream",
     "text": [
      "Expression:       sin(x) + 40\n",
      "Critcal Values:   [pi/2, 3*pi/2]\n",
      "\n",
      "Eval List:\n",
      "    item 0 (1.6, 41.0)\n",
      "    item 1 (4.7, 39.0)\n",
      "    item 2 (-3.0, 40.0)\n",
      "    item 3 (5.0, 39.0)\n",
      "\n",
      "Final Answer on extreme values (x,y):\n",
      "    x,y Min:  (4.7, 39.0)\n",
      "    x,y Max:  (1.6, 41.0)\n"
     ]
    }
   ],
   "source": [
    "print('Expression:      ', expr)\n",
    "print('Critcal Values:  ',x_cv)\n",
    "eval_list = []            # will include (x,y) tuples for critical values and endpoints\n",
    "for x_data in x_cv:\n",
    "    y = expr.subs([(x, x_data)])            # Substitution, uses value of x_data for x in expression to calc y\n",
    "    eval_list.append((x_data,y))               # include value of x and y as a tuple\n",
    "eval_list.append((x_min, expr.subs([(x, x_min)])))            # get y at interval lower endpoint\n",
    "eval_list.append((x_max, expr.subs([(x, x_max)])))            # get y at interval upper endpoint\n",
    "\n",
    "print('\\nEval List:')\n",
    "\n",
    "# Occassionally, this will produce something like: 1/(4*(sqrt(42)/4 + 13/8)**(1/3)) + 1/2 + (sqrt(42)/4 + 13/8)**(1/3)\n",
    "# To correct, convert to float\n",
    "for i in range(len(eval_list)):                # make sure all are floats\n",
    "    xtemp = float(eval_list[i][0])\n",
    "    ytemp = float(eval_list[i][1])\n",
    "    xtemp = float('{:.2g}'.format(xtemp))      # convert to 2 significant figures\n",
    "    ytemp = float('{:.2g}'.format(ytemp))\n",
    "    eval_list[i]= (xtemp,ytemp)\n",
    "    print('    item', i, eval_list[i])\n",
    "    \n",
    "eval_list.sort(key=lambda tup: tup[1])                        # sorts in place by 2nd value (y value)\n",
    "    \n",
    "print('\\nFinal Answer on extreme values (x,y):')\n",
    "print('    x,y Min: ', eval_list[0])\n",
    "print('    x,y Max: ', eval_list[-1])"
   ]
  },
  {
   "cell_type": "markdown",
   "metadata": {},
   "source": [
    "### <font color=blue> Plot data along with annotation of min and max points"
   ]
  },
  {
   "cell_type": "code",
   "execution_count": 10,
   "metadata": {},
   "outputs": [
    {
     "data": {
      "image/png": "[encoded data removed]",
      "text/plain": [
       "<Figure size 288x144 with 1 Axes>"
      ]
     },
     "metadata": {},
     "output_type": "display_data"
    },
    {
     "name": "stdout",
     "output_type": "stream",
     "text": [
      "Note: Solution contains multiple min or max values. \n"
     ]
    }
   ],
   "source": [
    "# Plot data along with annotation of min and max points\n",
    "min_note= 'Min ' + str(eval_list[0])\n",
    "max_note= 'Max ' + str(eval_list[-1])\n",
    "\n",
    "fig, ax = plt.subplots(figsize=(4, 2))\n",
    "plt.style.use('ggplot')\n",
    "plt.xlabel('x', fontsize = 14, color='black')\n",
    "plt.ylabel('y', fontsize = 14, color='black')\n",
    "plt.annotate(max_note, eval_list[-1], ha='center',textcoords=\"offset points\",xytext=(200,0),color='g',\n",
    "            arrowprops=dict(facecolor='g', shrink=0.02)) \n",
    "plt.annotate(min_note, eval_list[0],textcoords=\"offset points\",xytext=(200,0), ha='center', color='g',\n",
    "             arrowprops=dict(facecolor='g', shrink=0.02))\n",
    "plt.title(\"Expression Plot\", loc='center', fontsize=18, color='b')\n",
    "plt.plot(x_expr,y_expr, color='b')\n",
    "plt.plot([x_min,x_min],[min(y_expr),max(y_expr)], color='r')   # limit line at min\n",
    "plt.plot([x_max,x_max],[min(y_expr),max(y_expr)], color='r')   # limit line at max\n",
    "plt.annotate(\"Interval is between Red lines\", [x_max,max(y_expr)],textcoords=\"offset points\",xytext=(50,-20),color='r')\n",
    "plt.show()\n",
    "print( note)"
   ]
  },
  {
   "cell_type": "markdown",
   "metadata": {},
   "source": [
    "## <font color=purple> SECTION 2: Concise Algorithm (without all the plots and interim results)"
   ]
  },
  {
   "cell_type": "markdown",
   "metadata": {},
   "source": [
    "### <font color=blue> Setup Algorithm as function"
   ]
  },
  {
   "cell_type": "code",
   "execution_count": 11,
   "metadata": {},
   "outputs": [],
   "source": [
    "\n",
    "def expr_min_max (expr, x, x_min, x_max ):\n",
    "    \"\"\" \n",
    "    Purpose:  Calculate the min and max values of a given expression\n",
    "    Inputs:   Expression to be evaluated, x variable, and interval values (x lower and x upper)\n",
    "    Process:  Uses 1st derivative to calculate slope = 0 points and then evaluates these points\n",
    "              (and the endpoints) for the min and max points.\n",
    "    Outputs:  Two tuples, one representing the (x,y) of min and the other the (x,y) of max \n",
    "    \"\"\"\n",
    "    from sympy import Derivative\n",
    "    deriv1= Derivative(expr, x)                   # take derivative\n",
    "    # Set the (first) derivative equal to zero. Solve for x. Call these values x_cv. (slope = 0 values)\n",
    "    eq1 = Eq(deriv1.doit())           # get equation of 1st derivative\n",
    "    x_cv_temp = solve(eq1,x)          # solve 1st derivative for critical values (get values of x when y = 0; i.e. slope = 0)\n",
    "    x_cv = []                         # list for critical values\n",
    "    for item in x_cv_temp:            # only include those within the interval\n",
    "        if   x_min <= item <= x_max:  x_cv.append(item)\n",
    "    # determine if there are > 2 values (--> multiple min or max)\n",
    "    if type(solveset(eq1,x)) == Union: print ('Note: Solution contains multiple min or max values. ')\n",
    "    # Evaluate original function to get y values at critical values of x and  x endpoints\n",
    "    eval_list = []                  # will include (x,y) tuples for critical values and endpoints\n",
    "    for x_data in x_cv:\n",
    "        y = expr.subs([(x, x_data)])     # Substitution, uses value of x_data for x in expression to calc y\n",
    "        eval_list.append((x_data,y))     # include value of x and y as a tuple\n",
    "    eval_list.append((x_min, expr.subs([(x, x_min)])))            # get y at interval lower endpoint\n",
    "    eval_list.append((x_max, expr.subs([(x, x_max)])))            # get y at interval upper endpoint\n",
    "    # Evaluate these critical points to get min and max\n",
    "    for i in range(len(eval_list)):                # make sure all are floats\n",
    "        xtemp = float(eval_list[i][0])\n",
    "        ytemp = float(eval_list[i][1])\n",
    "        xtemp = float('{:.2g}'.format(xtemp))      # convert to 2 significant figures\n",
    "        ytemp = float('{:.2g}'.format(ytemp))\n",
    "        eval_list[i]= (xtemp,ytemp)\n",
    "    eval_list.sort(key=lambda tup: tup[1])         # sorts in place by 2nd value (y value)\n",
    "    return  eval_list[0], eval_list[-1]            # return two tuples: min (x,y) and max (x,y)"
   ]
  },
  {
   "cell_type": "markdown",
   "metadata": {},
   "source": [
    "### <font color=blue> Execute Concise Algorithm"
   ]
  },
  {
   "cell_type": "code",
   "execution_count": 12,
   "metadata": {},
   "outputs": [
    {
     "name": "stdout",
     "output_type": "stream",
     "text": [
      "Note: Solution contains multiple min or max values. \n",
      "Expression:\n"
     ]
    },
    {
     "data": {
      "image/png": "[encoded data removed]",
      "text/latex": [
       "$$\\sin{\\left (x \\right )} + 40$$"
      ],
      "text/plain": [
       "sin(x) + 40"
      ]
     },
     "metadata": {},
     "output_type": "display_data"
    },
    {
     "name": "stdout",
     "output_type": "stream",
     "text": [
      "Interval:  -3 , 5\n",
      "Min: (4.7, 39.0) and Max: (1.6, 41.0)\n"
     ]
    }
   ],
   "source": [
    "import numpy as np\n",
    "from sympy import pprint, init_printing\n",
    "from sympy import *\n",
    "init_printing(use_unicode=True)\n",
    "from sympy import Symbol, Eq,  solveset, S\n",
    "import math\n",
    "\n",
    "# Specifiy inputs (expression, interval)\n",
    "x= Symbol('x', real=True)                   # define x variable as a symbol\n",
    "eXpr = sin(x) +40                           # test case exression\n",
    "x_Min, x_Max = -3, 5                        # specify interval (min and max values of x)\n",
    "\n",
    "# Execute function \n",
    "min, max = expr_min_max (eXpr, x, x_Min, x_Max )   # execute function\n",
    "\n",
    "# Print results\n",
    "print(\"Expression:\")\n",
    "display(eXpr)\n",
    "print( \"Interval: \", x_Min,',', x_Max)\n",
    "print (\"Min: {} and Max: {}\".format(min, max))"
   ]
  },
  {
   "cell_type": "markdown",
   "metadata": {},
   "source": [
    "## <font color=purple> SECTION 3: Additional Problems"
   ]
  },
  {
   "cell_type": "code",
   "execution_count": 13,
   "metadata": {},
   "outputs": [],
   "source": [
    "# Plug these expressions and corresponding limits into Section 1 or 2 for additional examples.\n",
    "expr = x**3 -12 * x +4                    # test case exression; x_min = -3  x_max = 5\n",
    "expr= x**4 - 2*x**3 - 12*x + 4            # specify the expression; x_min = -3   x_max = 5 \n",
    "expr= 2*x**4 - 8*x**3                     # specify the expression; x_min = 2   x_max = 4\n",
    "expr= 4/x**6  - 3/x**8                    # specify the expression; x_min = .5  x_max = 10\n",
    "expr= sin(x) +40                          # specify the expression; x_min = -3   x_max = 20 \n",
    "expr = 2*x**3 +3*x**2 -12*x               # specify the expression; x_min = -20 x_max =20\n",
    "expr = 3*x**4 -16*x**3 +24*x**2               # specify the expression; x_min = -20 x_max =20\n",
    "expr = x**2/16                            # parabola, x_min = -4 x_max = 4"
   ]
  },
  {
   "cell_type": "code",
   "execution_count": null,
   "metadata": {},
   "outputs": [],
   "source": []
  }
 ],
 "metadata": {
  "kernelspec": {
   "display_name": "Python 3",
   "language": "python",
   "name": "python3"
  },
  "language_info": {
   "codemirror_mode": {
    "name": "ipython",
    "version": 3
   },
   "file_extension": ".py",
   "mimetype": "text/x-python",
   "name": "python",
   "nbconvert_exporter": "python",
   "pygments_lexer": "ipython3",
   "version": "3.6.7"
  }
 },
 "nbformat": 4,
 "nbformat_minor": 2
}
