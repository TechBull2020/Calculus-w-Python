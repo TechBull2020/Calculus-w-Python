{
 "cells": [
  {
   "cell_type": "markdown",
   "metadata": {},
   "source": [
    "## <font color=blue> Calculus Area Under Curve using Python\n",
    "\n",
    "This is part of the series of math algorithms to define 3D shapes as math objects."
   ]
  },
  {
   "cell_type": "markdown",
   "metadata": {},
   "source": [
    "### <font color=blue> Problem: \n",
    "Find the area under the curve for the specified function (expression) over a given the interval. For example:\n",
    "* If expression is y = sin(x) + 40  &nbsp;.... and limits of x are -3 to +10\n",
    "    * The area will be 519.85\n",
    "    \n",
    "### <font color=blue> Process: \n",
    "* Integrate the expression over the interval\n",
    "    \n",
    "### <font color=blue> Notes: </font>\n",
    "\n",
    "* Section 1 provides the step-by-step algorithm with plots and interim results.  This also includes a check by dividing the area into small rectangles and summing the area of the rectangles.\n",
    "* Section 2 presents the algorithm in more concise fashion that can be easily copied and used. \n",
    "\n"
   ]
  },
  {
   "cell_type": "markdown",
   "metadata": {},
   "source": [
    "## <font color=purple> SECTION 1: Algorithm with execution details (plots of data, interim calculations, etc)"
   ]
  },
  {
   "cell_type": "code",
   "execution_count": 1,
   "metadata": {},
   "outputs": [],
   "source": [
    "import numpy as np\n",
    "from scipy.integrate import quad\n",
    "import matplotlib.pyplot as plt\n",
    "%matplotlib inline"
   ]
  },
  {
   "cell_type": "markdown",
   "metadata": {},
   "source": [
    "### <font color=blue> Key Inputs: expression and interval for evaluation</font>"
   ]
  },
  {
   "cell_type": "code",
   "execution_count": 2,
   "metadata": {},
   "outputs": [],
   "source": [
    "y = lambda x: np.sin(x) +40                 # function\n",
    "x_lower, x_upper = -3,10            # define interval"
   ]
  },
  {
   "cell_type": "markdown",
   "metadata": {},
   "source": [
    "### <font color=blue>  Plot the expression for visualization </font>"
   ]
  },
  {
   "cell_type": "code",
   "execution_count": 3,
   "metadata": {},
   "outputs": [
    {
     "name": "stdout",
     "output_type": "stream",
     "text": [
      "[-3, 10]\n"
     ]
    },
    {
     "data": {
      "image/png": "[encoded data removed]",
      "text/plain": [
       "<Figure size 288x144 with 1 Axes>"
      ]
     },
     "metadata": {
      "needs_background": "light"
     },
     "output_type": "display_data"
    }
   ],
   "source": [
    "# Plot data\n",
    "def plot_data(x_values,y_values, x_low, x_high):\n",
    "    \"\"\"\n",
    "    Plots values (x_values, y_values) and highlight interval (x_low, x_high)\n",
    "    \"\"\"\n",
    "    plt.figure(figsize=(4,2))                       # resets to new figure   \n",
    "    plt.style.use('ggplot')\n",
    "    plt.xlabel('x', fontsize = 14, color='black')\n",
    "    plt.ylabel('y', fontsize = 14, color='black')\n",
    "    plt.title(\"Expression Plot\", loc='center', fontsize=18, color='b')\n",
    "    plt.plot(x_values,y_values, color='b')\n",
    "    plt.plot([x_low,  x_low],[min(y_values),max(y_values)], color='r')   # limit line at lower interval\n",
    "    print([x_low,x_high])\n",
    "    plt.plot([x_high,x_high],[min(y_values),max(y_values)], color='r')   # limit line at upper interval\n",
    "    #plt.fill_between([x_low,x_high],[min(y_values),max(y_values)], color=\"green\", alpha = .3)\n",
    "    plt.annotate(\"Interval is between Red lines\", [x_high,max(y_values)],textcoords=\"offset points\",xytext=(70,-20),color='r')\n",
    "    plt.show()\n",
    "    return\n",
    "\n",
    "# Generate some function data\n",
    "x_data = [x for x in np.linspace(start = x_lower -.3*abs(x_lower), stop = (x_upper+.3*abs(x_upper)), num = 200)]  #data for x variable             \n",
    "y_data = [y(x) for x in x_data]                     # create data for y variable\n",
    "# Plot data\n",
    "plot_data(x_data,y_data, x_lower, x_upper)  # plot data"
   ]
  },
  {
   "cell_type": "markdown",
   "metadata": {},
   "source": [
    "### <font color=blue>  Integrate expression (function) to get area under curve"
   ]
  },
  {
   "cell_type": "code",
   "execution_count": 4,
   "metadata": {},
   "outputs": [
    {
     "name": "stdout",
     "output_type": "stream",
     "text": [
      "Area under the curve: 519.85\n"
     ]
    }
   ],
   "source": [
    "from math import log10, floor\n",
    "# Calculate and print Area Under the Curve.\n",
    "area = quad(y, x_lower, x_upper)[0]             # area is the integral\n",
    "area = float(np.format_float_scientific(area, precision=4, unique=False,  trim='k'))  # convert to 4 significant figures\n",
    "print('Area under the curve:', area)"
   ]
  },
  {
   "cell_type": "markdown",
   "metadata": {},
   "source": [
    "### <font color=blue>  Check by dividing the area into small rectangles and summing the area of the rectangles."
   ]
  },
  {
   "cell_type": "code",
   "execution_count": 5,
   "metadata": {},
   "outputs": [
    {
     "name": "stdout",
     "output_type": "stream",
     "text": [
      "Check: 519.85\n"
     ]
    }
   ],
   "source": [
    "# Use this function to check\n",
    "def check(fct_y, xlow, xhigh):\n",
    "    \"\"\"\n",
    "    Calculate and return area under curve by dividing into narrow rectangles\n",
    "    \"\"\"\n",
    "    x_check = np.linspace(start=xlow, stop=xhigh, num = 1000)\n",
    "    test_area = 0\n",
    "    for i in range(len(x_check)-1):\n",
    "        test_area += fct_y(x_check[i])* (x_check[i+1] - x_check[i])\n",
    "    test_area = float(np.format_float_scientific(test_area, precision=4, unique=False,  trim='k'))  # convert to 4 significant\n",
    "    return test_area\n",
    "\n",
    "print('Check:', check(y, x_lower,x_upper))"
   ]
  },
  {
   "cell_type": "markdown",
   "metadata": {},
   "source": [
    "## <font color=purple> SECTION 2: Concise Algorithm (without all the plots and interim results)"
   ]
  },
  {
   "cell_type": "markdown",
   "metadata": {},
   "source": [
    "### <font color=blue>  Set up and define inputs"
   ]
  },
  {
   "cell_type": "code",
   "execution_count": 6,
   "metadata": {},
   "outputs": [],
   "source": [
    "import numpy as np\n",
    "from scipy.integrate import quad\n",
    "\n",
    "y = lambda x: np.sin(x) +40                    # function\n",
    "x_lower, x_upper = -3,10            # define interval"
   ]
  },
  {
   "cell_type": "markdown",
   "metadata": {},
   "source": [
    "### <font color=blue>  Execute"
   ]
  },
  {
   "cell_type": "code",
   "execution_count": 7,
   "metadata": {},
   "outputs": [
    {
     "name": "stdout",
     "output_type": "stream",
     "text": [
      "Area under the curve: 519.85\n"
     ]
    }
   ],
   "source": [
    "# Calculate and print Area Under the Curve.\n",
    "area = quad(y, x_lower, x_upper)[0]             # area is the integral\n",
    "area = float(np.format_float_scientific(area, precision=4, unique=False,  trim='k'))  # convert to 4 significant figures\n",
    "print('Area under the curve:', area)"
   ]
  },
  {
   "cell_type": "markdown",
   "metadata": {},
   "source": [
    "## <font color=purple> SECTION 3: Additional Problems"
   ]
  },
  {
   "cell_type": "code",
   "execution_count": 8,
   "metadata": {},
   "outputs": [],
   "source": [
    "# Plug these expressions and corresponding limits into Section 1 or 2 for additional examples.\n",
    "# x**3 -12 * x +4                    # test case exression; x_min = -3  x_max = 5\n",
    "# x**4 - 2*x**3 - 12*x + 4            # specify the expression; x_min = -3   x_max = 5 \n",
    "# 2*x**4 - 8*x**3                     # specify the expression; x_min = 2   x_max = 4\n",
    "# 4/x**6  - 3/x**8                    # specify the expression; x_min = .5  x_max = 10\n",
    "# np.sin(x) +40                          # specify the expression; x_min = -3   x_max = 20 \n",
    "# 2*x**3 +3*x**2 -12*x               # specify the expression; x_min = -20 x_max =20\n",
    "# 3*x**4 -16*x**3 +24*x**2               # specify the expression; x_min = -20 x_max =20\n",
    "# x**2/16                            # parabola, x_min = -4 x_max = 4"
   ]
  }
 ],
 "metadata": {
  "kernelspec": {
   "display_name": "Python 3",
   "language": "python",
   "name": "python3"
  },
  "language_info": {
   "codemirror_mode": {
    "name": "ipython",
    "version": 3
   },
   "file_extension": ".py",
   "mimetype": "text/x-python",
   "name": "python",
   "nbconvert_exporter": "python",
   "pygments_lexer": "ipython3",
   "version": "3.6.7"
  }
 },
 "nbformat": 4,
 "nbformat_minor": 2
}
