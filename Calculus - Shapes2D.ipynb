{
 "cells": [
  {
   "cell_type": "markdown",
   "metadata": {},
   "source": [
    "## <font color=blue> Calculus - Shapes and data points for 2D shapes\n",
    "\n",
    "This is part of the series of math algorithms to define 2D shapes as math objects."
   ]
  },
  {
   "cell_type": "markdown",
   "metadata": {},
   "source": [
    "\n",
    "\n",
    "### <font color=blue> Problem: \n",
    "Create math (and Python) objects based on certain specifications.\n",
    "* Section 1. Circles\n",
    "* Section 2. Lines \n",
    "* Section 3. Arcs\n",
    "\n"
   ]
  },
  {
   "cell_type": "markdown",
   "metadata": {},
   "source": [
    "## <font color=purple> SECTION 1: Circles"
   ]
  },
  {
   "cell_type": "markdown",
   "metadata": {},
   "source": [
    "### <font color=blue>1a. Create Circle Object"
   ]
  },
  {
   "cell_type": "code",
   "execution_count": 1,
   "metadata": {},
   "outputs": [],
   "source": [
    "# \n",
    "import numpy as np\n",
    "import matplotlib.pyplot as plt\n",
    "%matplotlib inline\n",
    "import math\n",
    "pi = math.pi\n",
    "\n",
    "class Circle:\n",
    "    def __init__(self,name='Circle', r=2, n=0, xc=0, yc=0, c='r'):              # includes default values\n",
    "        self.name = name                # name of object\n",
    "        self.r = r                      # radius of circle\n",
    "        self.xc = xc                    # center of circle (x value)\n",
    "        self.yc = yc                    # center of circle (y value)\n",
    "        self.color = c                  # color of circle\n",
    "        \n",
    "        # Adjust default on n (the number of points)\n",
    "        self.n = n                      # number of data points in circumference\n",
    "        if self.n == 0:         # if zero points (the default), generate n = 20 * radius as default\n",
    "            self.n = int(math.ceil(self.r))*40\n",
    "\n",
    "        # Calculate circumference data points based on radius (r) and center coordinates (xc,yc)\n",
    "        x_list = [self.xc + \n",
    "                       math.cos(2*pi/self.n*x)*self.r for x in range(0,self.n+1)] # circumference x values\n",
    "        self.x_list = [float(np.format_float_scientific(x, precision=4, unique=False,  trim='k')) for x in x_list]  # convert to 4 significant figures \n",
    "        y_list = [self.yc +\n",
    "                       math.sin(2*pi/self.n*x)*self.r for x in range(0,self.n+1)] # circumference y values\n",
    "        self.y_list = [float(np.format_float_scientific(y, precision=4, unique=False,  trim='k')) for y in y_list]  # convert to 4 significant figures        \n",
    "\n",
    "        # Calculate area\n",
    "        c_area = pi*self.r**2\n",
    "        self.c_area = float(np.format_float_scientific(c_area, precision=4, unique=False,  trim='k'))  # convert to 4 significant figures\n",
    "        \n",
    "    def circum(self):\n",
    "        self.circum = [(x,y) for x,y in zip(self.x_list,self.y_list)]   # convert list of tuples\n",
    "        return self.circum\n",
    "    def area(self):\n",
    "        return self.c_area\n",
    "    def center(self):\n",
    "        return (self.xc, self.yc)\n",
    "    def image(self):\n",
    "        plt.style.use('ggplot')\n",
    "        plt.title(self.name, loc='center', fontsize=18)\n",
    "        plt.scatter(self.x_list, self.y_list, color=self.color)\n",
    "        plt.scatter(self.xc,self.yc, color=self.color)\n",
    "        ctr_note= 'Center (' + str(self.xc) +',' + str(self.yc)+  ')'\n",
    "        plt.annotate(ctr_note, [self.xc, self.yc], ha='center',textcoords=\"offset points\",xytext=(200,0),\n",
    "            arrowprops=dict(facecolor='black', shrink=0.02)) \n",
    "        \n",
    "        return\n",
    "    def __repr__(self):                                      # added method for print\n",
    "        return 'Circle: name = %s, radius = %s, points = %s, center = (%s, %s), area= %s ' % (self.name, \n",
    "                        self.r, self.n, self.xc, self.yc, self.c_area)"
   ]
  },
  {
   "cell_type": "markdown",
   "metadata": {},
   "source": [
    "### <font color=blue>1b. Create Circle Instance (for testing)"
   ]
  },
  {
   "cell_type": "code",
   "execution_count": 2,
   "metadata": {},
   "outputs": [
    {
     "name": "stdout",
     "output_type": "stream",
     "text": [
      "Circle: name = Circle1, radius = 2, points = 80, center = (4, 1), area= 12.566 \n"
     ]
    },
    {
     "data": {
      "image/png": "[encoded data removed]",
      "text/plain": [
       "<Figure size 288x288 with 1 Axes>"
      ]
     },
     "metadata": {
      "needs_background": "light"
     },
     "output_type": "display_data"
    },
    {
     "name": "stdout",
     "output_type": "stream",
     "text": [
      "Circumference data points, (x,y) values: [(6.0, 1.0), (5.9938, 1.1569), (5.9754, 1.3129), (5.9447, 1.4669), (5.9021, 1.618), (5.8478, 1.7654), (5.782, 1.908), (5.7053, 2.045), (5.618, 2.1756), (5.5208, 2.2989), (5.4142, 2.4142), (5.2989, 2.5208), (5.1756, 2.618), (5.045, 2.7053), (4.908, 2.782), (4.7654, 2.8478), (4.618, 2.9021), (4.4669, 2.9447), (4.3129, 2.9754), (4.1569, 2.9938), (4.0, 3.0), (3.8431, 2.9938), (3.6871, 2.9754), (3.5331, 2.9447), (3.382, 2.9021), (3.2346, 2.8478), (3.092, 2.782), (2.955, 2.7053), (2.8244, 2.618), (2.7011, 2.5208), (2.5858, 2.4142), (2.4792, 2.2989), (2.382, 2.1756), (2.2947, 2.045), (2.218, 1.908), (2.1522, 1.7654), (2.0979, 1.618), (2.0553, 1.4669), (2.0246, 1.3129), (2.0062, 1.1569), (2.0, 1.0), (2.0062, 0.84308), (2.0246, 0.68713), (2.0553, 0.53311), (2.0979, 0.38197), (2.1522, 0.23463), (2.218, 0.092019), (2.2947, -0.044997), (2.382, -0.17557), (2.4792, -0.2989), (2.5858, -0.41421), (2.7011, -0.52081), (2.8244, -0.61803), (2.955, -0.70528), (3.092, -0.78201), (3.2346, -0.84776), (3.382, -0.90211), (3.5331, -0.94474), (3.6871, -0.97538), (3.8431, -0.99383), (4.0, -1.0), (4.1569, -0.99383), (4.3129, -0.97538), (4.4669, -0.94474), (4.618, -0.90211), (4.7654, -0.84776), (4.908, -0.78201), (5.045, -0.70528), (5.1756, -0.61803), (5.2989, -0.52081), (5.4142, -0.41421), (5.5208, -0.2989), (5.618, -0.17557), (5.7053, -0.044997), (5.782, 0.092019), (5.8478, 0.23463), (5.9021, 0.38197), (5.9447, 0.53311), (5.9754, 0.68713), (5.9938, 0.84308), (6.0, 1.0)]\n"
     ]
    }
   ],
   "source": [
    "if __name__ == '__main__':                           # testing only (not execute if called)\n",
    "    circle_1 = Circle(name='Circle1', r=2,xc=4, yc=1, n=80, c='g')     # Create object (circle)\n",
    "    print(circle_1)                                  # print key features of bject\n",
    "\n",
    "    plt.figure(figsize=(4,4))                        # resets to new figure\n",
    "    circle_1.image()                                 # Create image\n",
    "    plt.show()                                       # Show image\n",
    "    print('Circumference data points, (x,y) values:', circle_1.circum())"
   ]
  },
  {
   "cell_type": "markdown",
   "metadata": {},
   "source": [
    "### <font color=blue>1c. Create Collage of Circles (for testing)"
   ]
  },
  {
   "cell_type": "code",
   "execution_count": 3,
   "metadata": {},
   "outputs": [
    {
     "name": "stdout",
     "output_type": "stream",
     "text": [
      "Circle: name = Circles, radius = 1, points = 40, center = (0, -1.1), area= 3.1416 \n",
      "Circle: name = Circles, radius = 1.5, points = 80, center = (1.5, 1.2), area= 7.0686 \n",
      "Circle: name = Circles, radius = 0.2, points = 40, center = (1, 2), area= 0.12566 \n",
      "Circle: name = Circles, radius = 0.4, points = 40, center = (3, 0), area= 0.50265 \n",
      "Circle: name = Circles, radius = 0.25, points = 40, center = (-0.5, 1.5), area= 0.19635 \n"
     ]
    },
    {
     "data": {
      "image/png": "[encoded data removed]",
      "text/plain": [
       "<Figure size 432x288 with 1 Axes>"
      ]
     },
     "metadata": {},
     "output_type": "display_data"
    },
    {
     "data": {
      "text/plain": [
       "<Figure size 288x288 with 0 Axes>"
      ]
     },
     "metadata": {},
     "output_type": "display_data"
    }
   ],
   "source": [
    "\n",
    "if __name__ == '__main__':                           # testing only (not execute if called)\n",
    "    # set up circle parameters\n",
    "    c_radius = [1, 1.5,.2, .4, .25]                  # radius for each circle\n",
    "    c_xctr = [0,1.5,1, 3, -.5]                       # center x-coordinate for each circle\n",
    "    c_yctr = [-1.1, 1.2, 2, 0, 1.5]                  # center y-coordinate for each circle\n",
    "    c_color = ['b', 'g', 'r', 'y', 'm']              # color for each circle\n",
    "    c_list = [0 for i in c_radius]                   # circle output (each list element will be a circle object)\n",
    "    \n",
    "    for idx in range(len(c_radius)):                 # for each circle\n",
    "        c_list[idx] = Circle(name='Circles', r=c_radius[idx],\n",
    "            xc=c_xctr[idx], yc=c_yctr[idx], c=c_color[idx])     # Create object (circle)\n",
    "        print(c_list[idx])                           # print key features of object\n",
    "        c_list[idx].image()                          # generate image\n",
    "\n",
    "    plt.figure(figsize=(4,4))                        # resets to new figure\n",
    "    plt.show()                                       # Show image\n"
   ]
  },
  {
   "cell_type": "markdown",
   "metadata": {},
   "source": [
    "## <font color=purple> SECTION 2: Lines "
   ]
  },
  {
   "cell_type": "markdown",
   "metadata": {},
   "source": [
    "### <font color=blue>2a. Create Line Object"
   ]
  },
  {
   "cell_type": "code",
   "execution_count": 4,
   "metadata": {},
   "outputs": [],
   "source": [
    "# \n",
    "import numpy as np\n",
    "import math\n",
    "import matplotlib.pyplot as plt\n",
    "%matplotlib inline\n",
    "\n",
    "\n",
    "class Line:\n",
    "    def __init__(self,name='Line', start = (0,0), end = (0,0),c='r'):              # includes default values\n",
    "        self.name = name                # name of object\n",
    "        self.start = start              # Line starting coordinates (x1,y1)\n",
    "        self.end = end                  # Line ending coordinates (x2,y2)\n",
    "        self.color = c                  # Color of line for plot\n",
    "        \n",
    "        # Generate length of line\n",
    "        len = math.sqrt((start[0]-end[0])**2 + (start[1]-end[1])**2)   # sqrt of ((x1-x2)**2 + (y1-y2)**2)\n",
    "        self.len = float(np.format_float_scientific(len, precision=4, unique=False,  trim='k'))  # convert to 4 significant figures \n",
    "       \n",
    "        # Generate slope of line (change of y / change of x)\n",
    "        l_slope = (self.start[1]-self.end[1]) / (self.start[0] - self.end[0])\n",
    "        self.l_slope = float(np.format_float_scientific(l_slope, precision=4, unique=False,  trim='k'))  # convert to 4 significant figures \n",
    "        \n",
    "        # Generate number of datapoints \n",
    "        self.n = int(math.ceil(len))*5                  # number of points: 5 * len of line\n",
    "        \n",
    "        # Calculate the y_intercept.  y = mx + b --> b = y - mx   (where b is the y_intercept)\n",
    "        self.b1 = self.start[1] - self.l_slope * self.start[0]     \n",
    "        \n",
    "        # Generate points for line\n",
    "        x_incr = abs(start[0]-end[0]) / self.n    # len of x side divided by number of points \n",
    "        if start[0] > end[0]: x_incr = -x_incr        #  neg increments if x_start > x_end\n",
    "        x_list = [self.start[0] + x_incr*x_idx  for x_idx in range(0, self.n+1)]  # these are x values\n",
    "        self.x_list = [float(np.format_float_scientific(x, precision=4, unique=False,  trim='k')) for x in x_list]  # convert to 4 significant figures \n",
    "        # calculate y values based on y = mx + b\n",
    "        y_list = [self.l_slope*x + self.b1 for x in x_list]\n",
    "        self.y_list = [float(np.format_float_scientific(y, precision=4, unique=False,  trim='k')) for y in y_list]  # convert to 4 significant figures    \n",
    "       \n",
    "    def slope(self):\n",
    "        return self.l_slope\n",
    "    def length(self):\n",
    "        return self.len\n",
    "    def datapoints(self):               # provide list of datapoints, (x,y) tuples\n",
    "        self.datapoints = [(x,y) for x,y in zip(self.x_list,self.y_list)]   # convert list of tuples\n",
    "        return self.datapoints\n",
    "    def image(self): \n",
    "        plt.style.use('ggplot')\n",
    "        plt.title(self.name, loc='center', fontsize=18)        \n",
    "        str_note= 'Start ' + str(self.start)\n",
    "        end_note= 'End ' + str(self.end)\n",
    "        plt.xlabel('x', fontsize = 14, color='black')\n",
    "        plt.ylabel('y', fontsize = 14, color='black')\n",
    "        plt.annotate(str_note, self.start, ha='center',textcoords=\"offset points\",xytext=(200,0),\n",
    "                    arrowprops=dict(facecolor='black', shrink=0.02)) \n",
    "        plt.annotate(end_note, self.end,textcoords=\"offset points\",xytext=(200,0), ha='center', \n",
    "                     arrowprops=dict(facecolor='black', shrink=0.02))\n",
    "        plt.scatter(self.x_list, self.y_list, color=self.color)\n",
    "        \n",
    "        return\n",
    "    def __repr__(self):                                      # added method for print\n",
    "        return 'Line: name = %s, start = %s, end = %s, length = %s, slope = %s, y_intercept = %s  ' % (self.name, \n",
    "            self.start, self.end, self.len, self.l_slope, self.b1)\n",
    "        "
   ]
  },
  {
   "cell_type": "markdown",
   "metadata": {},
   "source": [
    "### <font color=blue>2b. Create Line Instance (for testing)"
   ]
  },
  {
   "cell_type": "code",
   "execution_count": 5,
   "metadata": {},
   "outputs": [
    {
     "name": "stdout",
     "output_type": "stream",
     "text": [
      "Line: name = Line1, start = (2, 5), end = (-2, -3), length = 8.9443, slope = 2.0, y_intercept = 1.0  \n"
     ]
    },
    {
     "data": {
      "image/png": "[encoded data removed]",
      "text/plain": [
       "<Figure size 288x288 with 1 Axes>"
      ]
     },
     "metadata": {
      "needs_background": "light"
     },
     "output_type": "display_data"
    },
    {
     "name": "stdout",
     "output_type": "stream",
     "text": [
      "Line data points, (x,y) values: [(2.0, 5.0), (1.9111, 4.8222), (1.8222, 4.6444), (1.7333, 4.4667), (1.6444, 4.2889), (1.5556, 4.1111), (1.4667, 3.9333), (1.3778, 3.7556), (1.2889, 3.5778), (1.2, 3.4), (1.1111, 3.2222), (1.0222, 3.0444), (0.93333, 2.8667), (0.84444, 2.6889), (0.75556, 2.5111), (0.66667, 2.3333), (0.57778, 2.1556), (0.48889, 1.9778), (0.4, 1.8), (0.31111, 1.6222), (0.22222, 1.4444), (0.13333, 1.2667), (0.044444, 1.0889), (-0.044444, 0.91111), (-0.13333, 0.73333), (-0.22222, 0.55556), (-0.31111, 0.37778), (-0.4, 0.2), (-0.48889, 0.022222), (-0.57778, -0.15556), (-0.66667, -0.33333), (-0.75556, -0.51111), (-0.84444, -0.68889), (-0.93333, -0.86667), (-1.0222, -1.0444), (-1.1111, -1.2222), (-1.2, -1.4), (-1.2889, -1.5778), (-1.3778, -1.7556), (-1.4667, -1.9333), (-1.5556, -2.1111), (-1.6444, -2.2889), (-1.7333, -2.4667), (-1.8222, -2.6444), (-1.9111, -2.8222), (-2.0, -3.0)]\n"
     ]
    }
   ],
   "source": [
    "if __name__ == '__main__':                           # testing only (not execute if called)\n",
    "    line_1 = Line(name='Line1', start = (2,5), end = (-2,-3), c='g')   # Create line (or vector)\n",
    "    \n",
    "    print(line_1)                         # Print line characteristics\n",
    "    \n",
    "    plt.figure(figsize=(4,4))             # resets to new figure\n",
    "    line_1.image()                        # Create plot\n",
    "    plt.show()                            # Show plot\n",
    "    \n",
    "    print('Line data points, (x,y) values:', line_1.datapoints())\n"
   ]
  },
  {
   "cell_type": "markdown",
   "metadata": {},
   "source": [
    "## <font color=purple> SECTION 3: Arcs"
   ]
  },
  {
   "cell_type": "markdown",
   "metadata": {},
   "source": [
    "## <font color=blue>3a. Create Arc Object"
   ]
  },
  {
   "cell_type": "code",
   "execution_count": null,
   "metadata": {},
   "outputs": [],
   "source": []
  },
  {
   "cell_type": "markdown",
   "metadata": {},
   "source": [
    "### <font color=blue>3b. Create Arc Instance (for testing)"
   ]
  },
  {
   "cell_type": "code",
   "execution_count": null,
   "metadata": {},
   "outputs": [],
   "source": []
  }
 ],
 "metadata": {
  "kernelspec": {
   "display_name": "Python 3",
   "language": "python",
   "name": "python3"
  },
  "language_info": {
   "codemirror_mode": {
    "name": "ipython",
    "version": 3
   },
   "file_extension": ".py",
   "mimetype": "text/x-python",
   "name": "python",
   "nbconvert_exporter": "python",
   "pygments_lexer": "ipython3",
   "version": "3.6.7"
  }
 },
 "nbformat": 4,
 "nbformat_minor": 2
}
