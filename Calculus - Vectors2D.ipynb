{
 "cells": [
  {
   "cell_type": "markdown",
   "metadata": {},
   "source": [
    "## <font color=blue> Calculus - Vector data points for 2D \n",
    "\n",
    "This is part of the series of math algorithms to define 2D shapes as math objects."
   ]
  },
  {
   "cell_type": "markdown",
   "metadata": {},
   "source": [
    "## \n",
    "### <font color=blue> Problem: \n",
    "Create math (and Python) objects based on certain specifications.\n",
    "* Section 1. Vector, 2D\n",
    "\n"
   ]
  },
  {
   "cell_type": "markdown",
   "metadata": {},
   "source": [
    "## <font color=purple> SECTION 1: Vectors, 2D "
   ]
  },
  {
   "cell_type": "markdown",
   "metadata": {},
   "source": [
    "### <font color=blue>1a. Create Vector Object"
   ]
  },
  {
   "cell_type": "code",
   "execution_count": 1,
   "metadata": {},
   "outputs": [],
   "source": [
    "# \n",
    "import numpy as np\n",
    "import math\n",
    "import matplotlib.pyplot as plt\n",
    "%matplotlib inline\n",
    "\n",
    "\n",
    "class Vector:\n",
    "    def __init__(self,name='Vector', start = (0,0), end = (0,0),c='r'):              # includes default values\n",
    "        self.name = name                # name of object\n",
    "        self.start = start              # starting coordinates (x1,y1)\n",
    "        self.end = end                  # ending coordinates (x2,y2)\n",
    "        self.color = c                  # Color for plot\n",
    "        \n",
    "        # Generate length of vector\n",
    "        len = math.sqrt((start[0]-end[0])**2 + (start[1]-end[1])**2)   # sqrt of ((x1-x2)**2 + (y1-y2)**2)\n",
    "        self.len = float(np.format_float_scientific(len, precision=4, unique=False,  trim='k'))  # convert to 4 significant figures \n",
    "        \n",
    "        # Generate vector components\n",
    "        x = abs(self.start[0] - self.end[0])\n",
    "        if self.start[0] > self.end[0]: x = -x\n",
    "        x = float(np.format_float_scientific(x, precision=4, unique=False,  trim='k'))\n",
    "        \n",
    "        y = abs(self.start[1] - self.end[1])\n",
    "        if self.start[1] > self.end[1]: y = -y\n",
    "        y = float(np.format_float_scientific(y, precision=4, unique=False,  trim='k'))  \n",
    "        self.vector = (x,y)\n",
    "    \n",
    "        # Generate slope of vector (change of y / change of x)\n",
    "        l_slope = (self.start[1]-self.end[1]) / (self.start[0] - self.end[0])\n",
    "        self.l_slope = float(np.format_float_scientific(l_slope, precision=4, unique=False,  trim='k'))  # convert to 4 significant figures \n",
    "        \n",
    "        # Generate number of datapoints \n",
    "        self.n = int(len * 2)                  # number of points: 20 * len of line\n",
    "        \n",
    "        # Calculate the y_intercept.  y = mx + b --> b = y - mx   (where b is the y_intercept)\n",
    "        self.b1 = self.start[1] - self.l_slope * self.start[0]     \n",
    "        \n",
    "        # Generate points for vector\n",
    "        x_incr = abs(start[0]-end[0]) / self.n    # len of x side divided by number of points \n",
    "        if start[0] > end[0]: x_incr = -x_incr        #  neg increments if x_start > x_end\n",
    "        x_list = [self.start[0] + x_incr*x_idx  for x_idx in range(0, self.n+1)]  # these are x values\n",
    "        self.x_list = [float(np.format_float_scientific(x, precision=4, unique=False,  trim='k')) for x in x_list]  # convert to 4 significant figures \n",
    "        # calculate y values based on y = mx + b\n",
    "        y_list = [self.l_slope*x + self.b1 for x in x_list]\n",
    "        self.y_list = [float(np.format_float_scientific(y, precision=4, unique=False,  trim='k')) for y in y_list]  # convert to 4 significant figures    \n",
    "       \n",
    "    def slope(self):\n",
    "        return self.l_slope\n",
    "    def length(self):\n",
    "        return self.len\n",
    "    def datapoints(self):               # provide list of datapoints, (x,y) tuples\n",
    "        self.datapoints = [(x,y) for x,y in zip(self.x_list,self.y_list)]   # convert list of tuples\n",
    "        return self.datapoints\n",
    "    def image(self): \n",
    "        plt.style.use('ggplot')\n",
    "        plt.title(self.name, loc='center', fontsize=18)        \n",
    "        str_note= 'Start ' + str(self.start)\n",
    "        end_note= 'End ' + str(self.end)\n",
    "        plt.xlabel('x', fontsize = 14, color='black')\n",
    "        plt.ylabel('y', fontsize = 14, color='black')\n",
    "        plt.annotate(str_note, self.start, ha='center',textcoords=\"offset points\",xytext=(200,0),\n",
    "                    arrowprops=dict(facecolor='black', shrink=0.02)) \n",
    "        plt.annotate(end_note, self.end,textcoords=\"offset points\",xytext=(200,0), ha='center', \n",
    "                     arrowprops=dict(facecolor='black', shrink=0.02))\n",
    "        plt.scatter(self.x_list[1:-1], self.y_list[1:-1], color=self.color)\n",
    "        plt.scatter(self.start[0], self.start[1], marker = '*', color = 'r')\n",
    "        plt.scatter(self.end[0], self.end[1], marker = 'd', color = 'r')   \n",
    "        return\n",
    "    def __repr__(self):                                      # added method for print\n",
    "        return 'Vector features: name = %s, vector = %s, start = %s, end = %s, length = %s, slope = %s, y_intercept = %s  ' % (self.name, \n",
    "            self.vector, self.start, self.end, self.len, self.l_slope, self.b1)\n",
    "        "
   ]
  },
  {
   "cell_type": "markdown",
   "metadata": {},
   "source": [
    "### <font color=blue>1b. Create Vector Instance (for testing)"
   ]
  },
  {
   "cell_type": "code",
   "execution_count": 2,
   "metadata": {},
   "outputs": [
    {
     "name": "stdout",
     "output_type": "stream",
     "text": [
      "Vector features: name = Vector1, vector = (3.0, -3.0), start = (1, 6), end = (4, 3), length = 4.2426, slope = -1.0, y_intercept = 7.0  \n",
      "Vector: (3.0, -3.0)\n"
     ]
    },
    {
     "data": {
      "image/png": "[encoded data removed]",
      "text/plain": [
       "<Figure size 432x288 with 1 Axes>"
      ]
     },
     "metadata": {},
     "output_type": "display_data"
    },
    {
     "name": "stdout",
     "output_type": "stream",
     "text": [
      "Vector data points, (x,y) values: [(1.0, 6.0), (1.375, 5.625), (1.75, 5.25), (2.125, 4.875), (2.5, 4.5), (2.875, 4.125), (3.25, 3.75), (3.625, 3.375), (4.0, 3.0)]\n"
     ]
    }
   ],
   "source": [
    "if __name__ == '__main__':                           # testing only (not execute if called)\n",
    "    vector_1 = Vector(name='Vector1', start = (1,6), end = (4,3), c='g')   # Create vector\n",
    "    \n",
    "    print(vector_1)                         # Print object features\n",
    "    print('Vector:', vector_1.vector)\n",
    "    \n",
    "    vector_1.image()                        # Create plot\n",
    "    plt.show()                            # Show plot\n",
    "    \n",
    "    print('Vector data points, (x,y) values:', vector_1.datapoints())\n"
   ]
  },
  {
   "cell_type": "code",
   "execution_count": null,
   "metadata": {},
   "outputs": [],
   "source": []
  }
 ],
 "metadata": {
  "kernelspec": {
   "display_name": "Python 3",
   "language": "python",
   "name": "python3"
  },
  "language_info": {
   "codemirror_mode": {
    "name": "ipython",
    "version": 3
   },
   "file_extension": ".py",
   "mimetype": "text/x-python",
   "name": "python",
   "nbconvert_exporter": "python",
   "pygments_lexer": "ipython3",
   "version": "3.6.7"
  }
 },
 "nbformat": 4,
 "nbformat_minor": 2
}
