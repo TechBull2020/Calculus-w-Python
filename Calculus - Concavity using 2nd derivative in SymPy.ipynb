{
 "cells": [
  {
   "cell_type": "markdown",
   "metadata": {},
   "source": [
    "## <font color=blue> Calculus 2nd derivative in SymPy - Concavity\n",
    "\n",
    "This is part of the series of math algorithms to define 3D shapes as math objects."
   ]
  },
  {
   "cell_type": "markdown",
   "metadata": {},
   "source": [
    "### <font color=blue> Summary\n",
    "\n",
    "The 2nd derivative provides insights on the concavity of a curve:\n",
    "    * If 2nd derivative is positive, the curve is concave down\n",
    "    * If 2nd derivative is negative, the curve is concave up.\n",
    "### <font color=blue> Problem: \n",
    "Given an expression, for example: x**2/16 +1, which is a parabola, determine if it is concave up (convex)\n",
    "    or concave down.\n",
    "### <font color=blue> Process:  \n",
    "* Take first derivative\n",
    "* Take derivative of the first derivative (this equals the second derivative)\n",
    "* Evaluate second derivative; if > 0, then concave down, if < 0, then concave up. If zero, no concavity. \n",
    "                                                                \n",
    "### <font color=blue> Notes: \n",
    "* Section 1 provides the step-by-step algorithm with plots and interim results.  \n",
    "* Section 2 presents the algorithm in more concise fashion that can be easily copied and used. \n",
    "\n"
   ]
  },
  {
   "cell_type": "markdown",
   "metadata": {},
   "source": [
    "## <font color=purple> SECTION 1: Algorithm with execution details (plots of data, interim calculations, etc)"
   ]
  },
  {
   "cell_type": "code",
   "execution_count": 1,
   "metadata": {},
   "outputs": [],
   "source": [
    "import numpy as np\n",
    "import scipy as s\n",
    "import matplotlib.pyplot as plt\n",
    "%matplotlib inline\n"
   ]
  },
  {
   "cell_type": "markdown",
   "metadata": {},
   "source": [
    "### Key Inputs: expression and interval for evaluation"
   ]
  },
  {
   "cell_type": "code",
   "execution_count": 2,
   "metadata": {},
   "outputs": [],
   "source": [
    "from sympy import pprint, init_printing\n",
    "from sympy import *\n",
    "init_printing(use_unicode=True)\n",
    "from sympy import Symbol, Eq,  solveset, S\n",
    "import math\n",
    "\n",
    "x= Symbol('x')                                # define x as a symbol"
   ]
  },
  {
   "cell_type": "code",
   "execution_count": 3,
   "metadata": {},
   "outputs": [
    {
     "name": "stdout",
     "output_type": "stream",
     "text": [
      "Expression:  x**2/16 + 1       Interval:  -4 , 4\n"
     ]
    }
   ],
   "source": [
    "expr = x**2/16 +1                            # parabola, x_min = -4 x_max = 4\n",
    "\n",
    "x_min = -4                                   # specify interval (min)\n",
    "x_max = 4                                   # specify interval (max)\n",
    "print(\"Expression: \", expr, \"      Interval: \", x_min,',', x_max)"
   ]
  },
  {
   "cell_type": "markdown",
   "metadata": {},
   "source": [
    "### Plot the expression for visualization"
   ]
  },
  {
   "cell_type": "code",
   "execution_count": 4,
   "metadata": {},
   "outputs": [
    {
     "name": "stdout",
     "output_type": "stream",
     "text": [
      "Expression:\n"
     ]
    },
    {
     "data": {
      "image/png": "[encoded data removed]",
      "text/latex": [
       "$$\\frac{x^{2}}{16} + 1$$"
      ],
      "text/plain": [
       " 2    \n",
       "x     \n",
       "── + 1\n",
       "16    "
      ]
     },
     "metadata": {},
     "output_type": "display_data"
    },
    {
     "name": "stdout",
     "output_type": "stream",
     "text": [
      "      Interval:  -4 , 4\n"
     ]
    },
    {
     "data": {
      "text/plain": [
       "[<matplotlib.lines.Line2D at 0x2173904c518>]"
      ]
     },
     "execution_count": 4,
     "metadata": {},
     "output_type": "execute_result"
    },
    {
     "data": {
      "image/png": "[encoded data removed]",
      "text/plain": [
       "<Figure size 288x144 with 1 Axes>"
      ]
     },
     "metadata": {
      "needs_background": "light"
     },
     "output_type": "display_data"
    }
   ],
   "source": [
    "# Plot the function to understand the function and data\n",
    "print(\"Expression:\")\n",
    "display(expr)\n",
    "print( \"      Interval: \", x_min,',', x_max)\n",
    "\n",
    "# Create data for plot of function\n",
    "x_expr = [x for x in np.linspace(start = x_min, stop = x_max, num = 30)]\n",
    "y_expr = []\n",
    "for x_data in x_expr:\n",
    "    y = expr.subs([(x, x_data)])            # Substitution, uses value of x_data for x in expression\n",
    "    y_expr.append(y)\n",
    "\n",
    "# Plot data    \n",
    "plt.figure(figsize=(4,2))                       # resets to new figure   \n",
    "plt.style.use('ggplot')\n",
    "plt.xlabel('x', fontsize = 14, color='black')\n",
    "plt.ylabel('y', fontsize = 14, color='black')\n",
    "plt.title(\"expression Plot\", loc='center', fontsize=18, color='b')\n",
    "plt.plot(x_expr,y_expr, color='blue')\n",
    "# for x_data in [-2,0,2,4,5]: print(x_data, expr.subs([(x, x_data)]) )"
   ]
  },
  {
   "cell_type": "markdown",
   "metadata": {},
   "source": [
    "### Take a derivative of f(x), the 1st derivative, with respect to x and plot derivative:"
   ]
  },
  {
   "cell_type": "code",
   "execution_count": 5,
   "metadata": {},
   "outputs": [
    {
     "name": "stdout",
     "output_type": "stream",
     "text": [
      "Expression:\n"
     ]
    },
    {
     "data": {
      "image/png": "[encoded data removed]",
      "text/latex": [
       "$$\\frac{x^{2}}{16} + 1$$"
      ],
      "text/plain": [
       " 2    \n",
       "x     \n",
       "── + 1\n",
       "16    "
      ]
     },
     "metadata": {},
     "output_type": "display_data"
    },
    {
     "name": "stdout",
     "output_type": "stream",
     "text": [
      "Derivative:\n"
     ]
    },
    {
     "data": {
      "image/png": "[encoded data removed]",
      "text/latex": [
       "$$\\frac{x}{8}$$"
      ],
      "text/plain": [
       "x\n",
       "─\n",
       "8"
      ]
     },
     "metadata": {},
     "output_type": "display_data"
    },
    {
     "name": "stdout",
     "output_type": "stream",
     "text": [
      "At x = 4, the Value of function is 2 and Value of deriviative is 1/2 \n",
      "At x = 0, the Value of function is 1 and Value of deriviative is 0 \n"
     ]
    }
   ],
   "source": [
    "from sympy import Derivative\n",
    "print(\"Expression:\")\n",
    "display(expr)\n",
    "\n",
    "deriv1= Derivative(expr, x)                   # take 1st derivative\n",
    "print('Derivative:' )\n",
    "display(deriv1.doit())                        # \n",
    "\n",
    "value_der = deriv1.doit().subs({x:4})             # derivative at x = 4\n",
    "value_expr = expr.subs([(x, 4)])              # function at x = 4\n",
    "print('At x = 4, the Value of function is {} and Value of deriviative is {} '.format(value_expr,value_der))\n",
    "value_der = deriv1.doit().subs({x:0})             # derivative at x = 4\n",
    "value_expr = expr.subs([(x, 0)])              # function at x = 4\n",
    "print('At x = 0, the Value of function is {} and Value of deriviative is {} '.format(value_expr,value_der))"
   ]
  },
  {
   "cell_type": "markdown",
   "metadata": {},
   "source": [
    "### Plot 1st derivative on same chart as expression for visulization"
   ]
  },
  {
   "cell_type": "code",
   "execution_count": 6,
   "metadata": {},
   "outputs": [],
   "source": [
    "# Create the derivative plot data (function data already done)\n",
    "x_der = [x for x in np.linspace(start = x_min, stop = x_max, num = 30)]\n",
    "y_der = []\n",
    "for x_data in x_der:\n",
    "    y = deriv1.doit().subs({x:x_data})             # derivative at x = ....\n",
    "    y_der.append(y)"
   ]
  },
  {
   "cell_type": "code",
   "execution_count": 7,
   "metadata": {},
   "outputs": [
    {
     "data": {
      "image/png": "[encoded data removed]",
      "text/plain": [
       "<Figure size 288x144 with 1 Axes>"
      ]
     },
     "metadata": {},
     "output_type": "display_data"
    }
   ],
   "source": [
    "plt.figure(figsize=(4,2))                       # resets to new figure\n",
    "plt.title('Expression and its 1st Derivative', loc='center', fontsize=18, color='b')\n",
    "line_chart1 = plt.plot(x_expr, y_expr, color = 'blue')\n",
    "line_chart2 = plt.plot(x_der, y_der, color = 'orange')\n",
    "plt.xlabel('x', fontsize = 14, color='black')\n",
    "plt.ylabel('y', fontsize = 14, color='black')\n",
    "plt.legend(['Expression', 'Derivative'], loc='center left', bbox_to_anchor=(1.0, 0.5), title='Legend')\n",
    "\n",
    "plt.show()"
   ]
  },
  {
   "cell_type": "markdown",
   "metadata": {},
   "source": [
    "### Take 2nd derivative of expression\n",
    "If 2nd derivative > 0, curve is concave upward.\n",
    "\n",
    "If 2nd derivative < 0, curve is concave downward."
   ]
  },
  {
   "cell_type": "code",
   "execution_count": 8,
   "metadata": {},
   "outputs": [
    {
     "name": "stdout",
     "output_type": "stream",
     "text": [
      "Derivative 1:  x/8\n",
      "Derivative 2:  1/8\n",
      "2nd derivative = 1/8; 2nd derivative is positive (concave down)\n"
     ]
    }
   ],
   "source": [
    "print('Derivative 1: ', deriv1.doit())          # Use 1st derivative\n",
    "deriv2= Derivative(deriv1.doit(), x)                   # take 2nd derivative from 1st derivative\n",
    "print('Derivative 2: ', deriv2.doit())\n",
    "\n",
    "der2 = deriv2.doit()\n",
    "concave = \"2nd derivative is zero (no concavity)\"\n",
    "if der2 < 0: \n",
    "    concave = \"2nd derivative is negative (concave up, convex)\"\n",
    "elif der2 > 0: concave =  \"2nd derivative is positive (concave down)\"\n",
    "print('2nd derivative = {}; {}'.format(der2,concave))"
   ]
  },
  {
   "cell_type": "markdown",
   "metadata": {},
   "source": [
    "## <font color=purple> SECTION 2: Concise Algorithm (without all the plots and interim results)"
   ]
  },
  {
   "cell_type": "markdown",
   "metadata": {},
   "source": [
    "### <font color=blue> Setup Algorithm as function"
   ]
  },
  {
   "cell_type": "code",
   "execution_count": 9,
   "metadata": {},
   "outputs": [],
   "source": [
    "def second_deriv(expr, x):\n",
    "    \"\"\"\n",
    "    Purpose:  Calculate the 2nd derivative of a given expression\n",
    "    Inputs:   Expression to be evaluated and x variable\n",
    "    Process:  Calculate 1st derivative and take derivative of 1st derivative to get 2nd derivative; \n",
    "    execute 2nd derivative. \n",
    "    Outputs:  2nd derivative results  \n",
    "    \"\"\"\n",
    "    deriv1= Derivative(expr, x)                   # take 1st derivative     \n",
    "    deriv2= Derivative(deriv1.doit(), x)          # take derivative of 1st derivative to get 2nd derivative\n",
    "    return deriv2.doit()                          # exec and return"
   ]
  },
  {
   "cell_type": "markdown",
   "metadata": {},
   "source": [
    "### <font color=blue> Execute Concise Algorithm"
   ]
  },
  {
   "cell_type": "code",
   "execution_count": 10,
   "metadata": {},
   "outputs": [
    {
     "name": "stdout",
     "output_type": "stream",
     "text": [
      "2nd derivative = 1/8; 2nd derivative is positive (concave down)\n"
     ]
    }
   ],
   "source": [
    "from sympy import *\n",
    "from sympy import Symbol, Eq,  solveset, S\n",
    "import math\n",
    "\n",
    "# Specify inputs\n",
    "x= Symbol('x')                               # define x as a symbol\n",
    "eXpr = x**2/16 +1                            # parabola\n",
    "\n",
    "\n",
    "# Execute function \n",
    "der2 = second_deriv(eXpr, x )   # execute functiontive \n",
    "\n",
    "# print results\n",
    "concave = \"2nd derivative is zero (no concavity)\"\n",
    "if der2 < 0: \n",
    "    concave = \"2nd derivative is negative (concave up, convex)\"\n",
    "elif der2 > 0: concave =  \"2nd derivative is positive (concave down)\"\n",
    "print('2nd derivative = {}; {}'.format(der2,concave))"
   ]
  }
 ],
 "metadata": {
  "kernelspec": {
   "display_name": "Python 3",
   "language": "python",
   "name": "python3"
  },
  "language_info": {
   "codemirror_mode": {
    "name": "ipython",
    "version": 3
   },
   "file_extension": ".py",
   "mimetype": "text/x-python",
   "name": "python",
   "nbconvert_exporter": "python",
   "pygments_lexer": "ipython3",
   "version": "3.6.7"
  }
 },
 "nbformat": 4,
 "nbformat_minor": 2
}
